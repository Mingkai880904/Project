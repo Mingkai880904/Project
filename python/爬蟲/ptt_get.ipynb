{
  "nbformat": 4,
  "nbformat_minor": 0,
  "metadata": {
    "colab": {
      "name": "ptt get.ipynb",
      "provenance": [],
      "collapsed_sections": []
    },
    "kernelspec": {
      "name": "python3",
      "display_name": "Python 3"
    }
  },
  "cells": [
    {
      "cell_type": "code",
      "metadata": {
        "id": "j_RboiCplkhk",
        "colab_type": "code",
        "colab": {
          "base_uri": "https://localhost:8080/",
          "height": 1000
        },
        "outputId": "f705320c-c943-417d-d3a2-1980772c7960"
      },
      "source": [
        "import requests\n",
        "from bs4 import BeautifulSoup\n",
        "res = requests.get('https://www.ptt.cc/bbs/Food/index.html',verify=False)\n",
        "soup = BeautifulSoup(res.text)\n",
        "for entry in soup.select('.r-ent'):\n",
        "  print (entry.select('.title')[0].text,entry.select('.date')[0].text,entry.select('.author')[0].text)\n"
      ],
      "execution_count": 8,
      "outputs": [
        {
          "output_type": "stream",
          "text": [
            "/usr/local/lib/python3.6/dist-packages/urllib3/connectionpool.py:847: InsecureRequestWarning: Unverified HTTPS request is being made. Adding certificate verification is strongly advised. See: https://urllib3.readthedocs.io/en/latest/advanced-usage.html#ssl-warnings\n",
            "  InsecureRequestWarning)\n"
          ],
          "name": "stderr"
        },
        {
          "output_type": "stream",
          "text": [
            "\n",
            "[交換] 台北101  嵜SAKImoto二店  尋換訂位\n",
            "  7/04 bauwu210288\n",
            "\n",
            "[食記] 台北 大同 日治時期警察局下午茶｜八斤所\n",
            "  7/04 TooQoo\n",
            "\n",
            "[食記] 新北.三重 - 藏壽司 三重集賢路店\n",
            "  7/04 b122771\n",
            "\n",
            "[食記] 桃園大溪老地方客家菜(附菜單)\n",
            "  7/04 aner\n",
            "\n",
            "[食記] 花蓮吉安 九虹新月景觀茶舖\n",
            "  7/04 shangyikuo\n",
            "\n",
            "[食記] 日本名古屋 鼎泰豐\n",
            "  7/04 osakaleo\n",
            "\n",
            "[食記] 高雄 日十 早午食 高師大店\n",
            "  7/04 Queena7512\n",
            "\n",
            "[請益] 君品雲軒訂位假日換平日\n",
            "  7/04 Heaven158\n",
            "\n",
            "[食記] 宜蘭冬山鄉 屋頂庭園咖啡(Pizza/焗烤)\n",
            "  7/04 hwatai\n",
            "\n",
            "台北 請問易鼎活蝦跟一品活蝦推薦哪間？\n",
            "  7/04 watercolor60\n",
            "\n",
            "[食記] 新北市新店區小碧潭京站-金月笈食\n",
            "  7/04 fatlee\n",
            "\n",
            "[食記] 東京 100円唐揚げ食べ放題有鳥天酒場\n",
            "  7/04 Sherlock56\n",
            "\n",
            "[食記] 台北 甘妹弄堂\n",
            "  7/04 roger31311\n",
            "\n",
            "[食記] 桃園。HOT CAKES 美式鬆餅早午餐\n",
            "  7/05 larle\n",
            "\n",
            "[食記] 台北中山 蔚稻食堂 海膽炒飯\n",
            "  7/05 AlphaD\n",
            "\n",
            "[食記] 新北 鍋台銘時尚湯鍋淡大店\n",
            "  7/05 nikcoke\n",
            "\n",
            "[公告] Food板 板規 V3.91\n",
            " 12/16 Dilbert\n",
            "\n",
            "[公告] 發文請在標題加上地區及提供地址電話。^^\n",
            "  9/28 bluefish\n",
            "\n",
            "[公告] 文章被刪除者請洽精華區的資源回收桶\n",
            " 10/01 Dilbert\n",
            "\n",
            "[公告] 新增板規22：發文禁附延伸閱讀連結\n",
            "  6/04 Dilbert\n"
          ],
          "name": "stdout"
        }
      ]
    }
  ]
}